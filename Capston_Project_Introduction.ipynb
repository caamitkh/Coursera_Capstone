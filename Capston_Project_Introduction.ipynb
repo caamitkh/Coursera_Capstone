{
    "cells": [
        {
            "cell_type": "markdown",
            "metadata": {
                "collapsed": true
            },
            "source": "# Capstone Project - The Battle of the Neighborhoods\n### Data Science Specialization Capstone by IBM/Coursera"
        },
        {
            "cell_type": "markdown",
            "metadata": {},
            "source": "## Table of contents\n* [Introduction](#introduction)\n* [Data](#data)\n* [Methodology](#methodology)\n* [Analysis](#analysis)\n* [Results and Discussion](#results)\n* [Conclusion](#conclusion)"
        },
        {
            "cell_type": "markdown",
            "metadata": {},
            "source": "## Introduction: <a name=\"introduction\"></a>"
        },
        {
            "cell_type": "markdown",
            "metadata": {},
            "source": "Toronto being financial capital of Canada, it attracts new immigrants as well as travellers. Indians are among top immigrants to Canada. As Indian population is rising in Toronto, want of Indian food & grocery is increasing. A restaurant chain name XYZ, which is poupular in India is interested to open an Indian restaurant in Toronto. They want to anlyse how the existing Indian restaurants in Toronto are distributed among the neighborhoods.   \n\nWith the help of data science we will classify Toronto neighborhoods with high, moderate & low density of Indian restaurants."
        },
        {
            "cell_type": "markdown",
            "metadata": {},
            "source": "## Data <a name=\"data\"></a>"
        },
        {
            "cell_type": "markdown",
            "metadata": {},
            "source": "Looking at the problem, we need:\n* details of neighborhood in Toronto\n* existing indian restaurants in the neighborhood\n\nWe will use following database/information\n* details of neighborhood in Toronto by web scraping from Wikipedia using postal codes\n* number of restaurants and their type and location in every neighborhood will be obtained using **Foursquare API**"
        },
        {
            "cell_type": "markdown",
            "metadata": {},
            "source": "## Methodology <a name=\"methodology\"></a>"
        },
        {
            "cell_type": "markdown",
            "metadata": {},
            "source": "In this project, the following methodology will be adopted \n* we will first obtain the Toronto neighborhood data, clean it & convert it to dataframe. \n* Then we will get the co-ordinates of these neighborhoods. \n* After merging location data with neighborhood we will get the nearby venues details using Foursquare API. \n* After filtering venue details to only Indian restaurants, we will get the number of restaurants in each neighborhood.\n* We will explore the restaurant density & cluster it with high, moderate & low density areas & plot it on map for better visualization."
        },
        {
            "cell_type": "code",
            "execution_count": null,
            "metadata": {},
            "outputs": [],
            "source": ""
        }
    ],
    "metadata": {
        "kernelspec": {
            "display_name": "Python 3.6",
            "language": "python",
            "name": "python3"
        },
        "language_info": {
            "codemirror_mode": {
                "name": "ipython",
                "version": 3
            },
            "file_extension": ".py",
            "mimetype": "text/x-python",
            "name": "python",
            "nbconvert_exporter": "python",
            "pygments_lexer": "ipython3",
            "version": "3.6.8"
        }
    },
    "nbformat": 4,
    "nbformat_minor": 1
}